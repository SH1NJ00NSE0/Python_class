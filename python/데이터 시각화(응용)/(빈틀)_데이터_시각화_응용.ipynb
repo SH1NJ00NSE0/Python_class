{
  "nbformat": 4,
  "nbformat_minor": 0,
  "metadata": {
    "colab": {
      "provenance": [],
      "collapsed_sections": []
    },
    "kernelspec": {
      "name": "python3",
      "display_name": "Python 3"
    }
  },
  "cells": [
    {
      "cell_type": "markdown",
      "metadata": {
        "id": "Ik_E8Ex3yWPF"
      },
      "source": [
        "0. 코랩에서 데이터 파일 열기"
      ]
    },
    {
      "cell_type": "code",
      "metadata": {
        "id": "1HzhRUiByZAw"
      },
      "source": [
        "#코랩에서 데이터 파일을 사용하기 위해 직접 업로드하는 코드\n"
      ],
      "execution_count": null,
      "outputs": []
    },
    {
      "cell_type": "markdown",
      "metadata": {
        "id": "3rq4EVDAydmo"
      },
      "source": [
        "(참고용) 구글 드라이브 마운트"
      ]
    },
    {
      "cell_type": "code",
      "metadata": {
        "id": "RVJZuOhazRnm"
      },
      "source": [
        "#코랩에서 구글 드라이브에 올린 파일을 사용하기 위해 마운트(연결)하는 코드\n"
      ],
      "execution_count": null,
      "outputs": []
    },
    {
      "cell_type": "markdown",
      "metadata": {
        "id": "hJi6IakAzowX"
      },
      "source": [
        "코랩에서 한글 폰트 사용하기"
      ]
    },
    {
      "cell_type": "markdown",
      "metadata": {
        "id": "Eo1OZ3Fvzt8N"
      },
      "source": [
        "- 코랩에서 이 과정 없이 한글을 쓰면 깨져서 나옴."
      ]
    },
    {
      "cell_type": "code",
      "metadata": {
        "id": "ItI1OfnVzyGm"
      },
      "source": [
        "# 그래프에 한글 폰트 사용하는 코드 -> 실행 후 [런타임]-[런타임 다시 시작] 메뉴를 이용하여 런타임 재시작!\n"
      ],
      "execution_count": null,
      "outputs": []
    },
    {
      "cell_type": "code",
      "metadata": {
        "id": "J9gwgC8l0AU_"
      },
      "source": [
        "#런타임 재시작 이후 한글 폰트 선택\n"
      ],
      "execution_count": null,
      "outputs": []
    },
    {
      "cell_type": "markdown",
      "metadata": {
        "id": "R6m9BV4J0LL5"
      },
      "source": [
        "데이터 불러오기(135쪽)"
      ]
    },
    {
      "cell_type": "markdown",
      "metadata": {
        "id": "ELYjb_H90RMp"
      },
      "source": [
        "- 인터넷 반응 지표 데이터 불러오기"
      ]
    },
    {
      "cell_type": "code",
      "metadata": {
        "id": "ejiQ08pX0TJm"
      },
      "source": [
        "                                            # 판다스 라이브러리 불러오기\n",
        "                                            # 인터넷 반응 지표 데이터 불러오기\n",
        "                                            # 구글 드라이브에 저장한 데이터 경로"
      ],
      "execution_count": null,
      "outputs": []
    },
    {
      "cell_type": "markdown",
      "metadata": {
        "id": "LH8rk1qZ0dPi"
      },
      "source": [
        "데이터 살펴보기(135~136쪽)"
      ]
    },
    {
      "cell_type": "markdown",
      "metadata": {
        "id": "NyyWgaqt0kMC"
      },
      "source": [
        "- 데이터의 전체 크기 확인"
      ]
    },
    {
      "cell_type": "code",
      "metadata": {
        "id": "FGogfFEM0mHV"
      },
      "source": [
        "    # 전체 행과 열의 개수"
      ],
      "execution_count": null,
      "outputs": []
    },
    {
      "cell_type": "markdown",
      "metadata": {
        "id": "lYnoh_0b0pVr"
      },
      "source": [
        "- 인터넷 반응 지표 데이터의 속성 (컬럼 파악하기)"
      ]
    },
    {
      "cell_type": "code",
      "metadata": {
        "id": "jb1UWaJU0qaj"
      },
      "source": [],
      "execution_count": null,
      "outputs": []
    },
    {
      "cell_type": "markdown",
      "metadata": {
        "id": "CLuIx9AJ1gYL"
      },
      "source": [
        "- 인터넷 반응 지표 데이터의 비어 있는 속성 확인 (결측치)"
      ]
    },
    {
      "cell_type": "code",
      "metadata": {
        "id": "jv7krr1W1ibp"
      },
      "source": [
        "     # isna() 함수는 결측 값에 대해 True를 표시해 주며, sum() 함수는 true(=1)인 값들의 합을 계산함."
      ],
      "execution_count": null,
      "outputs": []
    },
    {
      "cell_type": "markdown",
      "metadata": {
        "id": "0ztgTLUq1pu3"
      },
      "source": [
        "- df_c에 개수로 된 데이터와 정답 데이터만 저장"
      ]
    },
    {
      "cell_type": "code",
      "metadata": {
        "id": "hbBSdxA01rb7"
      },
      "source": [
        "df_c = \n",
        "df_c"
      ],
      "execution_count": null,
      "outputs": []
    },
    {
      "cell_type": "markdown",
      "metadata": {
        "id": "VA--Wz-T1xh9"
      },
      "source": [
        "- 데이터 속성들의 관계 수치로 나타내기"
      ]
    },
    {
      "cell_type": "code",
      "metadata": {
        "id": "W1YFdD3i10sd"
      },
      "source": [
        "    # corr() 함수는 속성들의 관계를 상관 계수로 나타냄."
      ],
      "execution_count": null,
      "outputs": []
    },
    {
      "cell_type": "markdown",
      "metadata": {
        "id": "RiUecz2m2H7D"
      },
      "source": [
        "데이터 시각화하기"
      ]
    },
    {
      "cell_type": "markdown",
      "metadata": {
        "id": "W9LiNYmQ2OOq"
      },
      "source": [
        "① 전체 데이터에 대한 시청률 속성과 다른 데이터 속성들의 관계 시각화하기"
      ]
    },
    {
      "cell_type": "markdown",
      "metadata": {
        "id": "v2MrrhGk2ba7"
      },
      "source": [
        "- 전체 데이터에 대한 시청률 속성과 다른 속성들의 관계 시각화"
      ]
    },
    {
      "cell_type": "code",
      "metadata": {
        "id": "nnrCh2ho2eML"
      },
      "source": [
        "                           # 맷플롯립 파이플롯 라이브러리 불러오기\n",
        "                           # 시본 라이브러리 불러오기\n",
        "                           # 파이플롯에 있는 figure() 함수로 크기 조정\n",
        "                           # 시본 라이브러리에 있는 heatmap() 함수로 상관 계수 시각화"
      ],
      "execution_count": null,
      "outputs": []
    },
    {
      "cell_type": "markdown",
      "metadata": {
        "id": "V5WxzRoI2jdE"
      },
      "source": [
        "② 특정 데이터에 대한 시청률 속성과 다른 데이터 속성들의 관계 시각화하기"
      ]
    },
    {
      "cell_type": "markdown",
      "metadata": {
        "id": "Yo2gnGoG2nqY"
      },
      "source": [
        "- 속성 이름과 비교 연산자를 이용한 최고 시청률 프로그램 탐색"
      ]
    },
    {
      "cell_type": "code",
      "metadata": {
        "colab": {
          "base_uri": "https://localhost:8080/"
        },
        "id": "8_mH5NEQ2pxN",
        "outputId": "5a6b998d-d8d1-478b-f00a-1b88f1cf5c4f"
      },
      "source": [
        "# 속성 이름과 비교 연산자를 이용하여 시청률이 가장 높은 프로그램명 검색\n"
      ],
      "execution_count": null,
      "outputs": [
        {
          "output_type": "execute_result",
          "data": {
            "text/plain": [
              "1274    오! 삼광빌라!\n",
              "1681    오! 삼광빌라!\n",
              "Name: 프로그램명, dtype: object"
            ]
          },
          "metadata": {
            "tags": []
          },
          "execution_count": 11
        }
      ]
    },
    {
      "cell_type": "markdown",
      "metadata": {
        "id": "23xjOCXH2uhD"
      },
      "source": [
        "- df_p에 최고 시청률 프로그램의 데이터 속성 저장"
      ]
    },
    {
      "cell_type": "code",
      "metadata": {
        "id": "1df0Enzr2wv0"
      },
      "source": [
        "# 가장 높은 시청률 프로그램명을 이용하여 해당 프로그램 데이터 속성만 df_p에 저장\n"
      ],
      "execution_count": null,
      "outputs": []
    },
    {
      "cell_type": "markdown",
      "metadata": {
        "id": "HW-5D30W20j8"
      },
      "source": [
        "- 특정 프로그램에 대한 시청률 속성과 다른 속성의 관계 시각화"
      ]
    },
    {
      "cell_type": "code",
      "metadata": {
        "id": "1aVBtScO22jq"
      },
      "source": [
        "# 파이플롯에 있는 figure() 함수로 크기 조정\n",
        "# title() 함수로 그래프 제목 넣기\n"
      ],
      "execution_count": null,
      "outputs": []
    },
    {
      "cell_type": "markdown",
      "metadata": {
        "id": "-eaMutnq3DnH"
      },
      "source": [
        "③ 여러 데이터 속성이 프로그램마다 어떤 역할을 하는지 확인하기"
      ]
    },
    {
      "cell_type": "markdown",
      "metadata": {
        "id": "6tF1rmc23HFx"
      },
      "source": [
        "- 시청률 높은 프로그램명 검색하기"
      ]
    },
    {
      "cell_type": "code",
      "metadata": {
        "id": "mD1tqvLD3JNk"
      },
      "source": [
        "# 속성 이름과 비교 연산자를 이용하여 시청률 15프로 이상의 프로그램명을 검색\n"
      ],
      "execution_count": null,
      "outputs": []
    },
    {
      "cell_type": "markdown",
      "metadata": {
        "id": "iZY8K5y24It_"
      },
      "source": [
        "- df_m에 3개의 프로그램 정보 저장"
      ]
    },
    {
      "cell_type": "code",
      "metadata": {
        "id": "48HbBUCh4JoG"
      },
      "source": [
        "# 속성 이름과 append() 함수를 이용하여 세 개의 프로그램의 정보를 df_m에 저장함.\n"
      ],
      "execution_count": null,
      "outputs": []
    },
    {
      "cell_type": "markdown",
      "metadata": {
        "id": "ikwHDGtf4bDp"
      },
      "source": [
        "- 시청률 높은 프로그램에 대한 시청률 속성과 다른 속성의 관계 시각화"
      ]
    },
    {
      "cell_type": "code",
      "metadata": {
        "id": "CkB2EaJ44fte"
      },
      "source": [],
      "execution_count": null,
      "outputs": []
    },
    {
      "cell_type": "markdown",
      "metadata": {
        "id": "QkPPISd24w5b"
      },
      "source": [
        "- 시청자 반응 데이터 속성들이 프로그램을 식별할 수 있는지 확인하기"
      ]
    },
    {
      "cell_type": "code",
      "metadata": {
        "id": "5frXYFyF4zCr"
      },
      "source": [],
      "execution_count": null,
      "outputs": []
    }
  ]
}